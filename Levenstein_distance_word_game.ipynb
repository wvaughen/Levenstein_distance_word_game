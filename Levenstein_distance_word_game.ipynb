{
 "cells": [
  {
   "cell_type": "markdown",
   "metadata": {},
   "source": [
    "# Problem Statement"
   ]
  },
  {
   "cell_type": "markdown",
   "metadata": {},
   "source": [
    "Our aim is to create a game by generating a network of words based on levenstein distance. The goal of the game is to start with a word of a given length (e.g. a five letter word such as \"boost\") and turn it into another, predetermined word of the same length (e.g. brown) by changing one letter at a time. The goal is to get from your starting word to your end word in as few steps as possible.\n",
    "\n",
    "This can be accomplished by generating a network using levenstein distance. Levenstein distance refers to how many changes it would take to turn one word into another. As an example, the words spoon and spool would have a levenstein distance of one. We can easily create a network in which every word is represented by a node. Nodes are then connected if they have a levenstein distance of one. Once this network is created, it is simple to plot the shortest path between any two words.\n",
    "\n",
    "This network can then be used to generate interesting combinations of starting and ending words to test the player's skill."
   ]
  },
  {
   "cell_type": "code",
   "execution_count": 5,
   "metadata": {},
   "outputs": [],
   "source": [
    "# importing necessary libraries\n",
    "import pandas as pd\n",
    "import numpy as np\n",
    "import matplotlib.pyplot as plt\n",
    "import seaborn as sns\n",
    "import networkx as nx\n",
    "import jellyfish\n",
    "from jellyfish import levenshtein_distance\n",
    "import random\n",
    "import sqlite3"
   ]
  },
  {
   "cell_type": "markdown",
   "metadata": {},
   "source": [
    "## Importing Dictionaries"
   ]
  },
  {
   "cell_type": "markdown",
   "metadata": {},
   "source": [
    "The dictionaries we are using are divided between initial letters. We will create a function to import each dictionary into a pandas dataframe."
   ]
  },
  {
   "cell_type": "code",
   "execution_count": 14,
   "metadata": {},
   "outputs": [],
   "source": [
    "# this function will create a dictionary of pandas dataframes, with each dataframe containing words which begin with the same letter\n",
    "def get_dictionaries():\n",
    "    letters = 'abcdefghijklmnopqrstuvwxyz'\n",
    "    dictionary = {}\n",
    "    # this will iterate through each letter of the alphabet\n",
    "    for letter in letters:\n",
    "        # adding each dataframe to a dictionary\n",
    "        dictionary[f'{letter.upper()}_words'] = pd.read_csv(f'wordlist/{letter.upper()}word.csv', error_bad_lines=False, engine='python')\n",
    "    return dictionary"
   ]
  },
  {
   "cell_type": "code",
   "execution_count": 104,
   "metadata": {},
   "outputs": [],
   "source": [
    "# this function will create an edge list of all words of a given length\n",
    "def make_edge_list(dictionary, length):\n",
    "    words = []\n",
    "    for letter in dictionary.values():\n",
    "        for index, row in letter.iterrows():\n",
    "            if len(row[0].strip()) == length:\n",
    "                words.append(row[0].strip())\n",
    "\n",
    "    word_set = set(four_letter_words)\n",
    "    word_dict = list(dict.fromkeys(four_letter_words))                \n",
    "                \n",
    "    edge_dict = {}\n",
    "    for word in word_dict:\n",
    "        edge_dict[word] = []\n",
    "        for subsequent_word in word_dict[word_dict.index(word):]:\n",
    "            if jellyfish.levenshtein_distance(word, subsequent_word) == 1:\n",
    "                edge_dict[word].append(subsequent_word)\n",
    "\n",
    "        \n",
    "    list1 = []\n",
    "    list2 = []\n",
    "    for key in edge_dict.keys():\n",
    "        for value in edge_dict[key]:\n",
    "            list1.append(key)\n",
    "            list2.append(value)       \n",
    "            \n",
    "    list3 = []\n",
    "    for a, b in zip(list1, list2):\n",
    "        list3.append((a, b))           \n",
    "\n",
    "    return np.array(list3)\n",
    "\n",
    "# this function will take an edge list and convert it into a network\n",
    "def make_graph(edge_list):\n",
    "    G = nx.from_edgelist(edge_list)\n",
    "    return G"
   ]
  },
  {
   "cell_type": "code",
   "execution_count": 108,
   "metadata": {},
   "outputs": [],
   "source": [
    "# this function will choose two random words as the starting word and the target word\n",
    "def gen_pair():\n",
    "    while True:\n",
    "        word1 = list(G.nodes)[random.randint(0, len(list(G.nodes)))]\n",
    "        word2 = list(G.nodes)[random.randint(0, len(list(G.nodes)))]\n",
    "        if (word1 != word2) and (word2 in nx.algorithms.descendants(G, word1)):\n",
    "            return word1, word2\n",
    "            break"
   ]
  },
  {
   "cell_type": "code",
   "execution_count": 109,
   "metadata": {},
   "outputs": [],
   "source": [
    "# this is the main game function\n",
    "# players will be given the starting word and be given the opportunity to input words with a levenstein distance of one away\n",
    "# the game will provide hints to see if the player's guess is warmer or colder\n",
    "def play():\n",
    "    pair = gen_pair()\n",
    "    source = pair[0]\n",
    "    target = pair[1]\n",
    "    print('Your starting word is {}'.format(pair[0]))\n",
    "    print('Your target word is {}'.format(pair[1]))\n",
    "    print('The shortest path between {} and {} is {} steps'.format(pair[0], pair[1], len(nx.shortest_path(G, source=pair[0], target=pair[1]))))\n",
    "    print(nx.shortest_path(G, source=pair[0], target=pair[1]))\n",
    "    previous = source\n",
    "    current = ''\n",
    "    while current != target:\n",
    "        current = input('Enter next step: ')\n",
    "        if current == '/quit':\n",
    "            break\n",
    "        elif levenshtein_distance(current, target) < levenshtein_distance(previous, target):\n",
    "            print('previous guess: {}, current guess: {}, warmer'.format(previous, current))\n",
    "            previous = current\n",
    "        elif levenshtein_distance(current, target) > levenshtein_distance(previous, target):\n",
    "            print('previous guess: {}, current guess: {}, colder'.format(previous, current))\n",
    "            previous = current\n",
    "        elif levenshtein_distance(current, target) == levenshtein_distance(previous, target):\n",
    "            print('previous guess: {}, current guess: {}, same temp'.format(previous, current))\n",
    "            previous = current\n",
    "        "
   ]
  },
  {
   "cell_type": "code",
   "execution_count": null,
   "metadata": {},
   "outputs": [],
   "source": [
    "play()"
   ]
  }
 ],
 "metadata": {
  "kernelspec": {
   "display_name": "Python 3",
   "language": "python",
   "name": "python3"
  },
  "language_info": {
   "codemirror_mode": {
    "name": "ipython",
    "version": 3
   },
   "file_extension": ".py",
   "mimetype": "text/x-python",
   "name": "python",
   "nbconvert_exporter": "python",
   "pygments_lexer": "ipython3",
   "version": "3.8.2"
  }
 },
 "nbformat": 4,
 "nbformat_minor": 4
}
